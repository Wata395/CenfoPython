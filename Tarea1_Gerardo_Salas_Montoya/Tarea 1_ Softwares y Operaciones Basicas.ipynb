{
 "cells": [
  {
   "cell_type": "markdown",
   "metadata": {},
   "source": [
    "# Tarea 1: Plataformas y operaciones básicas\n",
    "\n",
    "\n",
    "¡Bienvenidos al curso! Esta sería la primera tarea, como estamos apenas calentando motores, lo primero que tenemos que asegurarnos es que tengamos todos instalados los softwares necesarios y que conozcamos las herramientas que vamos a utilizar en el curso.\n",
    "\n"
   ]
  },
  {
   "cell_type": "markdown",
   "metadata": {},
   "source": [
    "## Primera Parte: Instalación de Anaconda y otros\n",
    "\n",
    "La primera parte de la tarea es asegurarnos que todos tenemos instalado Python y los modulos necesarios para el curso. Para efectos de este curso vamos a utilizar la distribución llamada Anaconda que nos permite tener dichos módulos previamente instalados.\n",
    "\n",
    "### Paso 1: \n",
    "Instalar anaconda y miniconda, en los siguientes links van a encontrar las instrucciones detalladas para la instalación. Pueden realizar la instalación por medio del instalador gráfico o por medio de la terminal. \n",
    "\n",
    "**Instrucciones para Mac**\n",
    "https://conda.io/docs/user-guide/install/macos.html\n",
    "\n",
    "**Instrucciones para Windows**\n",
    "https://conda.io/docs/user-guide/install/windows.html\n",
    "https://www.youtube.com/watch?v=k_ZtrU2yN3g\n",
    "\n",
    "En caso de que no funcione, aquí pueden encontrar todas las versiones del software para descargar: https://repo.anaconda.com/\n",
    "\n",
    "\n",
    "### Paso 2 :\n",
    "Instalar Anaconda Navigator,[en este link](https://docs.anaconda.com/anaconda/navigator/) pueden ver qué es y para qué funciona. \n",
    "\n",
    "Anaconda Navigator debería instalarse al hacer la instalación completa Anaconda, de ser así deberían poder poner en el search tanto de Windows como de Mac \"Anaconda Navigator\" y ver el siguiente logo: \n",
    "\n",
    "<img src=\"./img/anaconda-icon-1024x1024.png\" alt=\"drawing\" width=\"100\"/>\n",
    "\n",
    "\n",
    "En caso de que no se haya instalado, pueden instalarlo de la siguiente manera: \n",
    "\n",
    "https://anaconda.org/anaconda/anaconda-navigator\n",
    "\n",
    "\n",
    "\n",
    "### Paso 3:\n",
    "Instalar Git\n",
    "\n",
    "**Instrucciones para Mac**\n",
    "https://www.atlassian.com/git/tutorials/install-git\n",
    "\n",
    "**Instrucciones para Windows**\n",
    "https://www.atlassian.com/git/tutorials/install-git#windows\n",
    "\n",
    "\n",
    "\n"
   ]
  },
  {
   "cell_type": "markdown",
   "metadata": {},
   "source": [
    "## Segunda Parte: Sintiéndose cómodos con el command line\n",
    "\n",
    "Para efectos del curso va a ser necesario tener un entendimiento básico de cómo funciona la línea de comandos, de manera que se puedan ejecutar archivos de python cuando se programe. \n",
    "\n",
    "Durante la clase vimos los comandos básicos, pero pueden extender su conocimiento en los siguientes links: \n",
    "\n",
    " [Viking School](http://www.vikingcodeschool.com/web-development-basics/a-command-line-crash-course)\n",
    "    \n",
    " [Life Hacker](https://lifehacker.com/5633909/who-needs-a-mouse-learn-to-use-the-command-line-for-almost-anything)\n",
    "\n",
    "Si se sienten con ganas de ponerse cool aquí algunos tips de como personalizar la terminal:\n",
    "\n",
    "      http://osxdaily.com/2013/02/05/improve-terminal-appearance-mac-os-x/ \n",
    "\n",
    "      https://medium.com/purple-rock-scissors/customizing-your-terminal-with-bash-a22852abc447\n",
    "\n",
    "      https://www.youtube.com/watch?v=VIaAXppJBok\n",
    "\n",
    "\n",
    "\n",
    "\n",
    "\n",
    "\n",
    "![Cool](https://media.giphy.com/media/GCvktC0KFy9l6/giphy.gif \"cool\")\n",
    "\n",
    "\n",
    "\n",
    "\n"
   ]
  },
  {
   "cell_type": "markdown",
   "metadata": {},
   "source": [
    "## Tercera Parte: Git y Jupyter Notebooks\n",
    "\n",
    "\n",
    "**Recursos para aprender Git:**\n",
    "\n",
    " https://try.github.io/\n",
    " \n",
    " https://learngitbranching.js.org/\n",
    "\n",
    "\n",
    "**Recursos Para Aprender más sobre jupyter notebooks:** \n",
    "\n",
    "https://jupyter.brynmawr.edu/services/public/dblank/Jupyter%20Notebook%20Users%20Manual.ipynb\n",
    "\n",
    "https://www.analyticsvidhya.com/blog/2018/05/starters-guide-jupyter-notebook/\n",
    "\n",
    "\n",
    "\n",
    "\n",
    "**Recursos para aprender Markdown**\n",
    "\n",
    "https://www.markdowntutorial.com/\n",
    "\n",
    "https://guides.github.com/features/mastering-markdown/\n"
   ]
  },
  {
   "cell_type": "markdown",
   "metadata": {},
   "source": [
    "## Parte 4: Ejercicios"
   ]
  },
  {
   "cell_type": "markdown",
   "metadata": {},
   "source": [
    "**Ejercicio 1: Crear una tabla de commandos con markdown y lo que hacen para referencia**\n",
    "\n",
    "Comando | ¿Qué hace?\n",
    "------------ | -------------\n",
    "Comando | Descripcion\n",
    "Comando 2| Descripcion 2\n",
    "\n",
    "\n"
   ]
  },
  {
   "cell_type": "markdown",
   "metadata": {},
   "source": [
    "#Respuesta Ejercicio 1\n",
    "\n",
    "Comando | ¿Qué hace?\n",
    "------------ | -------------\n",
    "Comando #    | Crea un H1\n",
    "Comando ##   | Crea un H2\n",
    "Comando ###  | Crea un H3\n",
    "Comando -    | Crea un elemento de una lista\n",
    "Comando **** | Aplica **Negrita**\n",
    "\n"
   ]
  },
  {
   "cell_type": "markdown",
   "metadata": {},
   "source": [
    "**Ejercicio 2: Crear estructura de folders desde la consola**\n",
    "\n",
    "Escribir los comandos que deben ejecutarse en la consola para lograr la siguiente estructura de archivos: \n",
    "\n",
    "\n",
    "![Img](./img/mapa.png)\n",
    "\n"
   ]
  },
  {
   "cell_type": "raw",
   "metadata": {},
   "source": [
    "# Respuesta Ejercicio 2\n",
    "\n",
    "ls \n",
    "cd 'Home Folder'\n",
    "mkdir 'Curso Cenfo 2018'\n",
    "cd 'Curso Cenfo 2018'\n",
    "mkdir 'Lecciones' 'Tareas' 'Proyectos'\n",
    "touch Tareas/Tarea_1.txt Tareas/Tarea_2.txt Tareas/Tarea_3.txt\n",
    "mkdir Lecciones/Lecciones\n",
    "touch Lecciones/Archivo_1.txt Lecciones/Lecciones/L1.py Lecciones/Lecciones/L2.py\n",
    "\n",
    "\n"
   ]
  },
  {
   "cell_type": "markdown",
   "metadata": {},
   "source": [
    "**Ejercicio 3: Crear cuenta de Github**\n",
    "\n",
    "Crear una cuenta de GitHub y crear el primer repositorio y crear el primer push al repositorio con algun texto y pegar link del repositorio en la celda de abajo. "
   ]
  },
  {
   "cell_type": "raw",
   "metadata": {},
   "source": [
    "# Pegar Link a Repo aquí\n",
    "\n",
    "https://github.com/Wata395/CenfoPython\n",
    "\n",
    "\n",
    "\n"
   ]
  },
  {
   "cell_type": "markdown",
   "metadata": {},
   "source": [
    "**Ejercicio 4: Area de un circulo **\n",
    "\n",
    "Escriba la ecuación necesaria para calcular el área de un círculo. \n",
    "\n",
    "**Ejemplo:**\n",
    "\n",
    "Para un círculo de radio de 40cm usando pi como 3.1416\n",
    "\n",
    "Resultado esperado: 5026.5599999999995\n",
    "    "
   ]
  },
  {
   "cell_type": "code",
   "execution_count": 3,
   "metadata": {},
   "outputs": [
    {
     "data": {
      "text/plain": [
       "5026.5599999999995"
      ]
     },
     "execution_count": 3,
     "metadata": {},
     "output_type": "execute_result"
    }
   ],
   "source": [
    "# Respuesta Ejercicio 4\n",
    "# Identificamos el Radio del Circulo en este caso 40cm \n",
    "# Elevamos el Radio al cuadrado\n",
    "# Multiplicamos por pi\n",
    "\n",
    "(40**2)*3.1416\n",
    "\n"
   ]
  },
  {
   "cell_type": "markdown",
   "metadata": {},
   "source": [
    "**Ejercicio 5: Teorema de Pitagoras **\n",
    "\n",
    "Se tienen varios triangulos rectangulos con las siguientes medidas:\n",
    "\n",
    "Lado 1 | Lado 2 | Hipotenusa\n",
    "------------ | ------------- | -------------\n",
    "3 | 4 | x\n",
    "3 | x | 10\n",
    "x | 10 | 30\n",
    "\n",
    "Calcule los valores de X\n",
    "\n",
    "**Respuestas esperadas:**\n",
    "\n",
    "5.0\n",
    "\n",
    "9.539392014169456\n",
    "\n",
    "28.284271247461902\n"
   ]
  },
  {
   "cell_type": "code",
   "execution_count": 21,
   "metadata": {},
   "outputs": [
    {
     "name": "stdout",
     "output_type": "stream",
     "text": [
      "5.0\n",
      "9.539392014169456\n",
      "28.284271247461902\n"
     ]
    }
   ],
   "source": [
    "# Respuesta Ejercicio 5\n",
    "\n",
    "import math\n",
    "\n",
    "# La hipotenusa de un triángulo rectángulo es igual a la raiz cuadrada de la suma del cuadrado de los catetos.\n",
    "\n",
    "# El cateto de un triángulo rectángulo es igual a la raiz cuadrada de la hipotenusa al cuadrado menos el otro cateto al cuadrado.\n",
    "\n",
    "x = math.sqrt(3**2 + 4**2)\n",
    "\n",
    "y = math.sqrt(10**2 - 3**2)\n",
    "\n",
    "z = math.sqrt(30**2 - 10**2)\n",
    "\n",
    "print(x)\n",
    "print(y)\n",
    "print(z)\n"
   ]
  },
  {
   "cell_type": "markdown",
   "metadata": {},
   "source": [
    "**Ejercicio 6: Area Superficial y Volumen de un cilindro **\n",
    "\n",
    "\n",
    "Calcule el area superficial y el volumen de un cilindro de radio de 8cm y altura de 0.15m, utilizando pi como 3.1416\n",
    "\n",
    "**Resultado esperado:**\n",
    "\n",
    "_Volumen: 3015.936 cm <sup>3</sup>_\n",
    "\n",
    "_Area Superficial: 1156.1088 cm <sup>2</sup>_\n",
    "\n"
   ]
  },
  {
   "cell_type": "code",
   "execution_count": 33,
   "metadata": {},
   "outputs": [
    {
     "name": "stdout",
     "output_type": "stream",
     "text": [
      "El area superficial es: 1156.1088\n",
      "El volumen es: 3015.936\n"
     ]
    }
   ],
   "source": [
    "# Respuesta Ejercicio 6\n",
    "# para calcular el area superficial de un cilindro utilizamos la siguiente formula:\n",
    "# ((2) x ( π x r2)) + (2π x r x h)\n",
    "\n",
    "ASuperFicial = ((2) * (3.1416 * 8**2)) + (2 * 3.1416 * 8 * 15)\n",
    "\n",
    "print('El area superficial es: ' + str(ASuperFicial))\n",
    "\n",
    "# para calcular el Volumen \n",
    "\n",
    "Volumen = 3.1416 * (8**2) * 15\n",
    "\n",
    "print('El volumen es: ' + str(Volumen))\n",
    "\n",
    "\n"
   ]
  }
 ],
 "metadata": {
  "kernelspec": {
   "display_name": "Python 3",
   "language": "python",
   "name": "python3"
  },
  "language_info": {
   "codemirror_mode": {
    "name": "ipython",
    "version": 3
   },
   "file_extension": ".py",
   "mimetype": "text/x-python",
   "name": "python",
   "nbconvert_exporter": "python",
   "pygments_lexer": "ipython3",
   "version": "3.6.4"
  }
 },
 "nbformat": 4,
 "nbformat_minor": 2
}
