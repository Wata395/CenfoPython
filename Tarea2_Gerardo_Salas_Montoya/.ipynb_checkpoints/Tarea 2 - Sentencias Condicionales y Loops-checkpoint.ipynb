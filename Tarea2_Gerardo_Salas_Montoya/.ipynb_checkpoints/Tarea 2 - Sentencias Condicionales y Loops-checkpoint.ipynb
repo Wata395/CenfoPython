{
 "cells": [
  {
   "cell_type": "markdown",
   "metadata": {},
   "source": [
    "## Ejercicio 1: Manipular Archivos\n",
    "\n",
    "Dentro de este mismo directorio se encuentra un archivo que se llama \"tarea2.txt\". Ese archivo contiene información sobre 5 estudiantes y sus respectivas notas para 5 examenes.\n",
    "\n",
    "Cada linea tiene la siguiente estructura: nombre_estudiante: nota_examen1 nota_examen2 nota_examen3 nota_examen4 nota_examen5\n",
    "\n",
    "Escriban un programa que genere un archivo nuevo donde contenga en nombre de cada estudiante y su respectiva nota promedio de esos 5 examenes.\n",
    "\n",
    "La estrucutra de cada linea en el nuevo archivo debería de ser: nombre_estudiante: nota_promedio\n",
    "\n",
    "* utiliazar la metodologia de \"with\" para abrir el archivo\n"
   ]
  },
  {
   "cell_type": "code",
   "execution_count": 3,
   "metadata": {},
   "outputs": [
    {
     "name": "stdout",
     "output_type": "stream",
     "text": [
      "juan: 78 90 88 54 94\n",
      "luis: 56 77 91 100 84\n",
      "ana: 89 91 93 86 89\n",
      "sofia: 78 69 85 90 83\n",
      "julio: 88 93 77 78 81\n",
      "\n",
      "\n",
      "juan:80.8\n",
      "\n",
      "luis:81.6\n",
      "\n",
      "ana:89.6\n",
      "\n",
      "sofia:81.0\n",
      "\n",
      "julio:83.4\n",
      "\n"
     ]
    }
   ],
   "source": [
    "## Respuesta Ejercicio 1\n",
    "with open(\"tarea2.txt\") as archivo:\n",
    " data= archivo.read()\n",
    "print(data)\n",
    "archivo.close()\n",
    "print(\"\\n\")\n",
    "\n",
    "with open('tarea2.txt') as archivo:\n",
    "\n",
    "   for linea in archivo.readlines():\n",
    "       linea = linea.replace('\\n','')\n",
    "       linea1 = linea.split()\n",
    "       nombre_notas = linea.split(\":\")\n",
    "       notas = nombre_notas[1].split()\n",
    "       avg = sum(int(i) for i in notas)/len(notas)\n",
    "       nombre_avg = linea1[0] + str(avg ) + \"\\n\"\n",
    "       print(nombre_avg)\n",
    "       new_archivo = open('Promedios.txt','a+')\n",
    "       new_archivo.seek(0)\n",
    "       new_archivo.write(nombre_avg)\n",
    "       new_archivo.close()\n",
    "       ##archivo.close("
   ]
  },
  {
   "cell_type": "markdown",
   "metadata": {},
   "source": [
    "## Ejercicio 2: Manipular Archivos\n",
    "\n",
    "Dentro de este mismo directorio se encuentra un archivo que se llama \"introduccion.txt\". Este archivo contiene tres lineas con frases donde faltan palabras para rellenar. La posicion donde deberían de rellenar las palabras estan marcadas con [ ]. \n",
    "\n",
    "Para este ejercicio deberán de leer el archivo, y escribir sobre el mismo archivo cada vez que pasen por un [ ] con una palabra que complete la frase.\n",
    "\n",
    "* utiliazar la metodologia de \"with\" para abrir el archivo"
   ]
  },
  {
   "cell_type": "code",
   "execution_count": 2,
   "metadata": {},
   "outputs": [
    {
     "name": "stdout",
     "output_type": "stream",
     "text": [
      "Hola Mundo! Mi nombre es [] y tengo [] años. \n",
      "Estoy llevando este curso para []. \n",
      "En la segunda clase aprendimos sobre [] y []. \n",
      "\n",
      "\n",
      "Hola Mundo! Mi nombre es Gerardo y tengo 29 años. \n",
      "Estoy llevando este curso para aprender Python. \n",
      "En la segunda clase aprendimos sobre librerias  y formateo de strings. \n"
     ]
    }
   ],
   "source": [
    "## Respuesta Ejercicio 2\n",
    "\n",
    "with open(\"introduccion.txt\") as archivo:\n",
    " data= archivo.read()\n",
    "print(data)\n",
    "archivo.close()\n",
    "print(\"\\n\")\n",
    "\n",
    "\n",
    "with open('introduccion.txt') as archivo:\n",
    "   datos = archivo.read()\n",
    "   datos = datos.replace('[]','%s') % (\"Gerardo\",\"29\",\"aprender Python\",\"librerias \",\"formateo de strings\")\n",
    "   print(datos)\n",
    "archivo.close()"
   ]
  },
  {
   "cell_type": "markdown",
   "metadata": {},
   "source": [
    "## Ejercicio 3: Sentencias Condicionales y Loops\n",
    "\n",
    "Crear un programa que revise si un código ISBN-10 es valido o no. Un códifo ISBN-10 consiste de 10 characteres donde todos son digitos del 0-9, a excepción del último que puede ser un digito o la letra X (que equivale al numero 10). La formula para chequear si es un código valido es la siguiente:\n",
    "\n",
    "(x*1 + x*2 + x*3 + x*4 + x*5 + x*6 + x*7 + x*8 + x*9 + x*10) % 11 == 0\n",
    "\n",
    "donde x representa el digito cuando se itera sobre el ISBN-10 de izquierda a derecha."
   ]
  },
  {
   "cell_type": "code",
   "execution_count": 157,
   "metadata": {
    "scrolled": true
   },
   "outputs": [
    {
     "name": "stdout",
     "output_type": "stream",
     "text": [
      "The clear number is: 484362472X\n",
      "4 * 1 = 4\n",
      "8 * 2 = 16\n",
      "4 * 3 = 12\n",
      "3 * 4 = 12\n",
      "6 * 5 = 30\n",
      "2 * 6 = 12\n",
      "4 * 7 = 28\n",
      "7 * 8 = 56\n",
      "2 * 9 = 18\n",
      "The sum is: 188\n",
      "The \"Mod 11\" is: 1\n",
      "The ISBN-10 control number of control is X\n"
     ]
    }
   ],
   "source": [
    "## Respuesta Ejercicio 3\n",
    "\n",
    "def isbn10(isbn_num):\n",
    "    msum = 0\n",
    "   ## usamos el replace para quitar los '-' y usamos upper en caso de que la X este en minuscula\n",
    "    clear_num = isbn_num.replace(\"-\", \"\").upper()\n",
    "    \n",
    "    ## imprimo el resultado\n",
    "    print('The clear number is: %s' % clear_num)\n",
    "    \n",
    "    ## reviso si el resultado es diferente de 10\n",
    "    if len(clear_num) != 10:\n",
    "        raise ValueError('The number %s is not a 10-digit string.' % isbn_num)\n",
    "    ## sumo los valores multiplicados para obtener el total\n",
    "    for i in range(9):\n",
    "        mul = int(clear_num[i])*(i+1)\n",
    "        print(clear_num[i], '*', i+1, '=', str(mul) )\n",
    "        msum = msum + mul\n",
    "    print('The sum is: %s' % str(msum))\n",
    "    msum %= 11\n",
    "    print('The \"Mod 11\" is: %s' % msum)\n",
    "\n",
    "    if clear_num[-1] == \"X\":\n",
    "        return print('The ISBN-10 control number of control is X' )\n",
    "    else:\n",
    "        return print('The ISBN-10 control number is: %s' % str(int(clear_num[-1])))\n",
    "    \n",
    "\n",
    "isbn10(\"4-843-62-472-x\")"
   ]
  },
  {
   "cell_type": "markdown",
   "metadata": {},
   "source": [
    "## Ejercicio 4: List Comprehension\n",
    "\n",
    "Para los siguientes ejercicos tienen que crear una lista o un diccionario nuevo utilizando la metodología de list comprehension.\n",
    "\n",
    "a. Crear una lista de todos los numeros del 1-1000, incluyendo ambos, que sean divisibles entre 7.\n",
    "\n",
    "b. Eliminar todas las vocales de un string.\n",
    "\n",
    "c. Crear un diccionario a partir de un string que contiene una frase. Para cada palabra en la frase crear un key,value pair tuple donde el key sea equivalente a la palabra (string) y el value sea equivalente al largo de la plabra (int). "
   ]
  },
  {
   "cell_type": "code",
   "execution_count": 5,
   "metadata": {
    "collapsed": true
   },
   "outputs": [],
   "source": [
    "## Respuesta Ejercicio 4\n",
    "\n",
    "\n"
   ]
  },
  {
   "cell_type": "markdown",
   "metadata": {},
   "source": [
    "## Ejercicio 5: Loops\n",
    "\n",
    "Escribir un programa que imprima lo siguiente:\n",
    "\n",
    "\\*\n",
    "\n",
    "\\*\\*\n",
    "\n",
    "\\*\\*\\*\n",
    "\n",
    "\\*\\*\\*\\*\n",
    "\n",
    "\\*\\*\\*\\*\\*\n",
    "\n",
    "\\*\\*\\*\\*\n",
    "\n",
    "\\*\\*\\*\n",
    "\n",
    "\\*\\*\n",
    "\n",
    "\\*\n",
    "\n",
    "* Hint: Utilizar nested loops, no hacen falta sentencias condicionales."
   ]
  },
  {
   "cell_type": "code",
   "execution_count": 12,
   "metadata": {},
   "outputs": [],
   "source": [
    "# Respuesta Ejercicio 5"
   ]
  },
  {
   "cell_type": "code",
   "execution_count": 141,
   "metadata": {},
   "outputs": [
    {
     "name": "stdout",
     "output_type": "stream",
     "text": [
      "4 * 1 = 4\n",
      "8 * 2 = 16\n",
      "4 * 3 = 12\n",
      "3 * 4 = 12\n",
      "6 * 5 = 30\n",
      "2 * 6 = 12\n",
      "4 * 7 = 28\n",
      "7 * 8 = 56\n",
      "2 * 9 = 18\n",
      "The sum is: 188\n",
      "1\n"
     ]
    }
   ],
   "source": [
    "msum = 0\n",
    "num = \"484362472\"\n",
    "for i in range(9):\n",
    "    mul = int(num[i])*(i+1)\n",
    "    print(num[i], '*', i+1, '=', str(mul) )\n",
    "    msum = msum + mul\n",
    "print('The sum is: %s' % str(msum))\n",
    "\n",
    "msum %= 11\n",
    "\n",
    "print(msum)\n"
   ]
  }
 ],
 "metadata": {
  "kernelspec": {
   "display_name": "Python 3",
   "language": "python",
   "name": "python3"
  },
  "language_info": {
   "codemirror_mode": {
    "name": "ipython",
    "version": 3
   },
   "file_extension": ".py",
   "mimetype": "text/x-python",
   "name": "python",
   "nbconvert_exporter": "python",
   "pygments_lexer": "ipython3",
   "version": "3.7.1"
  }
 },
 "nbformat": 4,
 "nbformat_minor": 2
}
