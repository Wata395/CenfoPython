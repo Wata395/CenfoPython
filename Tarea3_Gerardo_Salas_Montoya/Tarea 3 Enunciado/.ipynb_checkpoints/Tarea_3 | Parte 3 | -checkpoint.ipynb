{
 "cells": [
  {
   "cell_type": "markdown",
   "metadata": {},
   "source": [
    "# Parte 3: Clases\n",
    "\n",
    "Resuelva los siguientes problemas de acuerdo con lo que se vio en clase"
   ]
  },
  {
   "cell_type": "markdown",
   "metadata": {},
   "source": [
    "##### Ejercicio 1: Clase circulo\n",
    "\n",
    "Cree una clase que se llame círculo que tenga como atribuot el radio del círculo y además el valor de pi. Además debe tener un método que calcule el área del círculo y la circunferencia"
   ]
  },
  {
   "cell_type": "code",
   "execution_count": 3,
   "metadata": {},
   "outputs": [],
   "source": []
  },
  {
   "cell_type": "code",
   "execution_count": 7,
   "metadata": {},
   "outputs": [
    {
     "name": "stdout",
     "output_type": "stream",
     "text": [
      "Radio: 5\n",
      "Pi:  3.1416\n",
      "Area: 78.53999999999999\n",
      "Circunferencia:  31.416\n"
     ]
    }
   ],
   "source": [
    "# Resultado Esperado\n",
    "c = Circulo(radio=5)\n",
    "print(\"Radio:\", c.radio)\n",
    "print(\"Pi: \", c.pi)\n",
    "print(\"Area:\", c.area())\n",
    "print(\"Circunferencia: \", c.circ())"
   ]
  },
  {
   "cell_type": "markdown",
   "metadata": {},
   "source": [
    "#### Ejercicio 2: Clase linea\n",
    "\n",
    "Cree una clase que se llame linea que reciba el punto inicial (x, y) el punto final (x2, y2) y los guarde como atributos y que tenga un método que calcule la longitud de la línea y otro la pendiente de la línea.   "
   ]
  },
  {
   "cell_type": "code",
   "execution_count": 9,
   "metadata": {},
   "outputs": [],
   "source": []
  },
  {
   "cell_type": "code",
   "execution_count": 11,
   "metadata": {},
   "outputs": [
    {
     "name": "stdout",
     "output_type": "stream",
     "text": [
      "5.385164807134504\n",
      "-0.4\n"
     ]
    }
   ],
   "source": [
    "# Resultado Esperado\n",
    "l = Linea((1,3),(-4,5))\n",
    "print(l.distancia())\n",
    "print(l.pendiente())"
   ]
  },
  {
   "cell_type": "markdown",
   "metadata": {},
   "source": [
    "#### Ejercicio 3: Clase Animal\n",
    "\n",
    "Cree una clase que se llame Animal que defina los atributos que usted considere que tienen que tener un animal. Dentro de esta clase debe existir un método llamado \"hablar\" que devuelva algun texto. \n",
    "\n",
    "Cree una clsae que se llame Perro y otra que se llame Gato y que ambas hereden propiedades de la clase animal y que cada una tenga su propio método \"hablar\" que diga algo diferente a Animal. \n",
    "\n",
    "Explique en una celda de Markdown qué es lo que está pasando."
   ]
  },
  {
   "cell_type": "code",
   "execution_count": null,
   "metadata": {},
   "outputs": [],
   "source": []
  },
  {
   "cell_type": "markdown",
   "metadata": {},
   "source": [
    "#### Ejercicio 4: Cuenta de Banco\n",
    "Cree una clase que corresponda a una cuenta de banco. La cuenta de banco va a tener dos atributos:\n",
    "\n",
    "* dueño\n",
    "* balance (saldo)\n",
    "* clave\n",
    "\n",
    "y dos métodos:\n",
    "\n",
    "* depositar\n",
    "* retirar\n",
    "* validar clave\n",
    "\n",
    "Requerimientos: \n",
    "\n",
    "    - Se debe crear una clave cuando se crea la cuenta y se tiene que hacer un método que valide que la clave es segura: Debe tener por lo menos 8 caracteres y tener letras, números y al menos un caracter especial (*/!+-)\n",
    "    - No se puede retirar montos que hagan que la cuenta quede en menos de 0, en otras palabras se tiene que tener saldo para poder hacer un retiro. \n",
    "    - Cada vez que se usa un método se tiene que ingresar la clave y se tiene que validar. \n",
    "    - Cuando se usa el método print() se debe imprimir un texto que describa la cuenta. \n",
    "    - Se debe lanzar mensajes que indiquen al usuario qué es lo que está pasando. \n",
    "   "
   ]
  },
  {
   "cell_type": "code",
   "execution_count": null,
   "metadata": {},
   "outputs": [],
   "source": []
  },
  {
   "cell_type": "markdown",
   "metadata": {},
   "source": [
    "## Reto"
   ]
  },
  {
   "cell_type": "markdown",
   "metadata": {},
   "source": [
    "#### Ejercicio 5: Guía telefónica\n",
    "\n",
    "Cree una clase que se llame guía telefónica que guarde instancias de la clase Contactos en un diccionario. La guía telefónica debe tener un método para agregar contactos, para modificar contactos y para eliminar contactos. Ademas, cuando se use print() debería imprimirse en consola una descripción de la guía telefónica.  \n",
    "\n",
    "\n",
    "Cree una clase que se llame \"Contacto\" que cuente con los atributos de:\n",
    "\n",
    "* Nombre\n",
    "* Apellido\n",
    "* Teléfono\n",
    "* Celular\n",
    "* Correo\n",
    "\n",
    "Cada contacto debe tener un método que se llame \"imprimir contacto\" que imprima toda la información de contacto a la consola. \n",
    "\n",
    "**Nota: Este ejercicio es una pregunta bastante abierta con la intención de que se elabore el proyecto tanto como se quiera.**"
   ]
  },
  {
   "cell_type": "code",
   "execution_count": null,
   "metadata": {},
   "outputs": [],
   "source": []
  },
  {
   "cell_type": "code",
   "execution_count": null,
   "metadata": {},
   "outputs": [],
   "source": []
  }
 ],
 "metadata": {
  "kernelspec": {
   "display_name": "Python 3",
   "language": "python",
   "name": "python3"
  },
  "language_info": {
   "codemirror_mode": {
    "name": "ipython",
    "version": 3
   },
   "file_extension": ".py",
   "mimetype": "text/x-python",
   "name": "python",
   "nbconvert_exporter": "python",
   "pygments_lexer": "ipython3",
   "version": "3.6.3"
  }
 },
 "nbformat": 4,
 "nbformat_minor": 2
}
