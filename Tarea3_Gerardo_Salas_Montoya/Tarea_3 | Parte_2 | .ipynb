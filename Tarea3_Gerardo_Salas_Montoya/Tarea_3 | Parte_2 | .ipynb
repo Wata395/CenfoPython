{
 "cells": [
  {
   "cell_type": "markdown",
   "metadata": {},
   "source": [
    "\n",
    "# Ejercicio 2: Muertes por armas\n",
    "\n",
    "El documento que se llama \"guns.csv\" contiene información sobre muertes por armas en EEUU. Vamos a crear funciones que nos ayuden a analizar los datos, a utilizar más de una base de datos y a practicar trabajar con fechas. Los datos son los siguientes: \n",
    "\n",
    "- ```year:``` Año en que ocurrió\n",
    "\n",
    "- ```month:``` mes en que ocurrió\n",
    "\n",
    "- ```intent:``` tipo de crimen\n",
    "\n",
    "- ```police:``` si involucró un policía\n",
    "\n",
    "- ```sex:``` genero de la víctima\n",
    "\n",
    "- ```age:``` edad de la víctima\n",
    "\n",
    "- ```race:``` raza de la víctima\n",
    "\n",
    "- ```hispanic:``` indica el origen hispánico de la victima\n",
    "\n",
    "- ```place:``` lugar donde ocurrió\n",
    "\n",
    "- ```educación:``` 1: menos que secundaria, 2: graduado de secundaria, 3: algo de universidad, 4: graduado de universidad, 5: no se cuenta con la información\n",
    "\n"
   ]
  },
  {
   "cell_type": "markdown",
   "metadata": {},
   "source": [
    "#### 1. Importar los datos\n",
    "Crear una función que importe un csv, para este ejercicio puede utilizar la librería csv de Python. Para cargar  el directorio actual en el que nos encontramos podemos utilizar los \"magic functions\" de jupyter. En este caso si utilizamos %pwd podemos guardar el directorio en un avariable para utilizarlo después. "
   ]
  },
  {
   "cell_type": "code",
   "execution_count": 2,
   "metadata": {},
   "outputs": [],
   "source": [
    "import csv"
   ]
  },
  {
   "cell_type": "code",
   "execution_count": 3,
   "metadata": {},
   "outputs": [],
   "source": [
    "#with open(\"./datasets/guns.csv\") as f:\n",
    "#    reader = csv.DictReader(f)\n",
    "#    data = [r for r in reader]\n",
    "    \n",
    "with open(\"./datasets/guns.csv\") as f:\n",
    "    reader = csv.reader(f)\n",
    "    head = next(reader) # skip header\n",
    "    data = [r for r in reader]"
   ]
  },
  {
   "cell_type": "markdown",
   "metadata": {},
   "source": [
    "#### 2. Separar los encabezados\n",
    "Separar los encabezados del resto de los datos para usarlos para el análisis"
   ]
  },
  {
   "cell_type": "code",
   "execution_count": 4,
   "metadata": {},
   "outputs": [
    {
     "name": "stdout",
     "output_type": "stream",
     "text": [
      "['', 'year', 'month', 'intent', 'police', 'sex', 'age', 'race', 'hispanic', 'place', 'education']\n"
     ]
    }
   ],
   "source": [
    "## All Headers are in 'head'\n",
    "print(head)"
   ]
  },
  {
   "cell_type": "markdown",
   "metadata": {},
   "source": [
    "#### 3. Contar las muertes por año\n",
    "Escriba una función que reciba una lista de datos y devuelva los conteos de cada ítem en la lista, calcule los conteos por año y los conteos por género y raza. "
   ]
  },
  {
   "cell_type": "code",
   "execution_count": 5,
   "metadata": {},
   "outputs": [],
   "source": [
    "ListGender = [x[5] for x in data]\n",
    "ListRace = [x2[7] for x2 in data]\n",
    "ListYear = [x2[1] for x2 in data]\n",
    "def countItem(myList):\n",
    "\n",
    "    mySet = list(set(myList))\n",
    "    for i in mySet:\n",
    "        count = 0\n",
    "        for j in myList:\n",
    "            if (i == j):\n",
    "                count += 1\n",
    "        print(i, 'es igual a :',count)\n",
    "    return '--------------------'\n",
    "    "
   ]
  },
  {
   "cell_type": "code",
   "execution_count": 6,
   "metadata": {},
   "outputs": [
    {
     "name": "stdout",
     "output_type": "stream",
     "text": [
      "F es igual a : 14449\n",
      "M es igual a : 86349\n",
      "--------------------\n",
      "Hispanic es igual a : 9022\n",
      "Black es igual a : 23296\n",
      "White es igual a : 66237\n",
      "Asian/Pacific Islander es igual a : 1326\n",
      "Native American/Native Alaskan es igual a : 917\n",
      "--------------------\n",
      "2014 es igual a : 33599\n",
      "2013 es igual a : 33636\n",
      "2012 es igual a : 33563\n",
      "--------------------\n"
     ]
    }
   ],
   "source": [
    "print(countItem(ListGender))\n",
    "print(countItem(ListRace))\n",
    "print(countItem(ListYear))"
   ]
  },
  {
   "cell_type": "markdown",
   "metadata": {},
   "source": [
    "#### 4. Verificar si existen tendencias por género y raza\n",
    "Describa en una celda de markup lo nota de los resultados obtenidos hasta el momento. "
   ]
  },
  {
   "cell_type": "markdown",
   "metadata": {},
   "source": [
    "## Muertes por Genero\n",
    "segun los datos estudiados, tenemos mas muertes en hombres que en mujeres.\n",
    "- los datos muestran que las muertes en ```honbres``` asienden a mas de **86K** en los tres años reportados, mientras que las ```mujeres``` tienen una cifra menor de **14K**.\n",
    "\n",
    "- Ademas podemos notar que las personas de raza blanca \"White\" son las que presentan la mayor cantidad de muertes, seguidos por la raza Negra \"Black\" y Hispana \"Hispanic\", mientras que por otra parte podemos notar que los nativos americanos son los que presentan la menor tasa de incidencia.\n"
   ]
  },
  {
   "cell_type": "markdown",
   "metadata": {},
   "source": [
    "#### 5. Formula para separar columnas\n",
    "\n",
    "Crear una función que reciba los datos y devuelva una lista de columnas, esto corresponde a transponer los datos. "
   ]
  },
  {
   "cell_type": "code",
   "execution_count": null,
   "metadata": {},
   "outputs": [],
   "source": []
  },
  {
   "cell_type": "markdown",
   "metadata": {},
   "source": [
    "#### 6. Cargar datos de Censo\n",
    "\n",
    "Crear otra variable que cargue los datos del documento \"census.csv\""
   ]
  },
  {
   "cell_type": "code",
   "execution_count": 7,
   "metadata": {},
   "outputs": [],
   "source": [
    "with open(\"./datasets/census.csv\") as f:\n",
    "    readerCens = csv.DictReader(f)\n",
    "    dataCens = [r for r in readerCens]"
   ]
  },
  {
   "cell_type": "markdown",
   "metadata": {},
   "source": [
    "#### 7. Eventos por cada 100 000 habitantes\n",
    "\n",
    "Cree una función que calcule la proporción de eventos por raza por cada 100 000 habitantes. "
   ]
  },
  {
   "cell_type": "markdown",
   "metadata": {},
   "source": [
    "Primero creamos un diccionario de equivalencias para que tenga sentido el cálculo:\n",
    "\n",
    "````mapping = {\n",
    "    'Asian/Pacific Islander': 674625 + 15159516 ,\n",
    "     'Black': 40250635,\n",
    "     'Hispanic': 44618105,\n",
    "     'Native American/Native Alaskan': 3739506,\n",
    "     'White': 197318956\n",
    "}````\n"
   ]
  },
  {
   "cell_type": "code",
   "execution_count": 10,
   "metadata": {},
   "outputs": [],
   "source": [
    "ListRace = [x2[7] for x2 in data]\n",
    "\n",
    "def countItem2(myList):\n",
    "    \n",
    "    myShortList = myList[:1000]\n",
    "    mySet = list(set(myShortList))\n",
    "    for i in mySet:\n",
    "        count = 0\n",
    "        for j in myShortList:\n",
    "            if (i == j):\n",
    "                count += 1\n",
    "        print(i, 'es igual a :',count)\n",
    "    return '--------------------'\n",
    "    "
   ]
  },
  {
   "cell_type": "code",
   "execution_count": 11,
   "metadata": {},
   "outputs": [
    {
     "name": "stdout",
     "output_type": "stream",
     "text": [
      "Hispanic es igual a : 12\n",
      "Black es igual a : 291\n",
      "White es igual a : 655\n",
      "Asian/Pacific Islander es igual a : 9\n",
      "Native American/Native Alaskan es igual a : 33\n",
      "--------------------\n"
     ]
    }
   ],
   "source": [
    "print(countItem2(ListRace))"
   ]
  },
  {
   "cell_type": "markdown",
   "metadata": {},
   "source": [
    "#### 8. Filtrar por motivo\n",
    "Crear una función que calcule las proporciones de crímines por cada 100 000 habitantes y que filtre el resultado por motivo. En otras palabras, que se presenten los datos por cada raza de el motivo del incidente (cantidad de personas blancas que cometieron un crimen de con el motivo de homicidio). "
   ]
  },
  {
   "cell_type": "code",
   "execution_count": null,
   "metadata": {},
   "outputs": [],
   "source": []
  },
  {
   "cell_type": "markdown",
   "metadata": {},
   "source": [
    "####  9. Analizando más allá\n",
    "\n",
    "Responda las siguientes preguntas con los datos, tods las respuestas deben venir acompañadas por una celda Markup en la que se explique su análisis."
   ]
  },
  {
   "cell_type": "markdown",
   "metadata": {},
   "source": [
    "##### a. ¿Existe una relación entre el mes en que se comete el crimen y la proporción de homicidios?"
   ]
  },
  {
   "cell_type": "code",
   "execution_count": null,
   "metadata": {},
   "outputs": [],
   "source": []
  },
  {
   "cell_type": "markdown",
   "metadata": {},
   "source": [
    "##### b. ¿Existe una correlación entre las razones de muertes por armas y la ubicación (location)? (Muestre su análisis con código y escriba en una celda sus observaciones)"
   ]
  },
  {
   "cell_type": "code",
   "execution_count": null,
   "metadata": {},
   "outputs": [],
   "source": []
  },
  {
   "cell_type": "markdown",
   "metadata": {},
   "source": [
    "##### c. ¿Existe una correlación entre las razones de muertes por armas y el nivel educativo?  (Muestre su análisis con código y escriba en una celda sus observaciones)"
   ]
  },
  {
   "cell_type": "code",
   "execution_count": null,
   "metadata": {},
   "outputs": [],
   "source": []
  },
  {
   "cell_type": "markdown",
   "metadata": {},
   "source": [
    "##### d. ¿Cuál es la razón de homicidios por género?"
   ]
  },
  {
   "cell_type": "code",
   "execution_count": null,
   "metadata": {},
   "outputs": [],
   "source": []
  },
  {
   "cell_type": "markdown",
   "metadata": {},
   "source": [
    "##### e. ¿Cuál es la relación, si es que hay, entre la categoría del incidente y raza? Por ejemplo los incidentes accidentales son más propensos en alguna raza?"
   ]
  },
  {
   "cell_type": "code",
   "execution_count": null,
   "metadata": {},
   "outputs": [],
   "source": []
  },
  {
   "cell_type": "code",
   "execution_count": null,
   "metadata": {},
   "outputs": [],
   "source": []
  },
  {
   "cell_type": "code",
   "execution_count": 95,
   "metadata": {},
   "outputs": [],
   "source": []
  },
  {
   "cell_type": "code",
   "execution_count": 96,
   "metadata": {},
   "outputs": [],
   "source": []
  },
  {
   "cell_type": "code",
   "execution_count": null,
   "metadata": {},
   "outputs": [],
   "source": []
  },
  {
   "cell_type": "code",
   "execution_count": null,
   "metadata": {},
   "outputs": [],
   "source": []
  }
 ],
 "metadata": {
  "kernelspec": {
   "display_name": "Python 3",
   "language": "python",
   "name": "python3"
  },
  "language_info": {
   "codemirror_mode": {
    "name": "ipython",
    "version": 3
   },
   "file_extension": ".py",
   "mimetype": "text/x-python",
   "name": "python",
   "nbconvert_exporter": "python",
   "pygments_lexer": "ipython3",
   "version": "3.7.1"
  }
 },
 "nbformat": 4,
 "nbformat_minor": 2
}
